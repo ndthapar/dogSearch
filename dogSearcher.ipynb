{
 "cells": [
  {
   "cell_type": "code",
   "execution_count": 5,
   "metadata": {},
   "outputs": [],
   "source": [
    "from selenium import webdriver\n",
    "from selenium.webdriver.common.keys import Keys\n",
    "from selenium.webdriver.common.action_chains import ActionChains\n",
    "from selenium.webdriver.common.by import By\n",
    "from selenium.webdriver.support.ui import Select\n",
    "from selenium.webdriver.support.ui import WebDriverWait\n",
    "from selenium.webdriver.support import expected_conditions as EC\n",
    "import time\n",
    "import smtplib, ssl\n",
    "\n",
    "#initiate smtp and account access\n",
    "\n",
    "port = 465  \n",
    "password = \"gold26\"\n",
    "\n",
    "# Create a secure SSL context\n",
    "context = ssl.create_default_context()\n",
    "with smtplib.SMTP_SSL(\"smtp.gmail.com\", port, context=context) as server:\n",
    "    server.login(\"neeldt@gmail.com\", password)\n",
    "    \n",
    "#message and send, recieve email addresses\n",
    "sender_email = \"neeldt@gmail.com\"\n",
    "receiver_email = \"ndthapar@gmail.com\"\n",
    "message1 = \"found a Corgi!!!!\"\n",
    "message2 = \"found a Shih Tzu!!!!\"\n",
    "#initiate driver and define wait between actions\n",
    "\n",
    "link = \"http://petharbor.com/results.asp?searchtype=ADOPT&start=3&friends=0&samaritans=0&nosuccess=0&rows=10&imght=120&imgres=thumb&tWidth=200&view=sysadm.v_miad&text=000000&fontface=arial&fontsize=10&col_bg=99b5c9&col_bg2=e7eec4&SBG=026BA9&zip=33183&miles=10&shelterlist=%27MIAD%27&atype=&where=type_DOG,gender_m,size_s&PAGE=1\"\n",
    "driver = webdriver.Chrome()\n",
    "driver.get(link)\n",
    "wait = WebDriverWait(driver, 1000)\n",
    "\n",
    "\n",
    "#click to relevant page\n",
    "wait = WebDriverWait(driver, 1000)\n",
    "driver.find_element_by_xpath('//*[@id=\"frmResults\"]/table[3]/tbody/tr[1]/td[4]/a').click()\n",
    "wait = WebDriverWait(driver, 1000)\n",
    "driver.find_element_by_xpath('//*[@id=\"frmResults\"]/center[3]/a[3]').click()\n",
    "wait = WebDriverWait(driver, 1000)\n",
    "\n",
    "#find text elements with dog descriptions\n",
    "possible_list = driver.find_elements_by_class_name('TableContent1')\n",
    "possible_list2 = driver.find_elements_by_class_name('TableContent2')\n",
    "\n",
    "while(True):\n",
    "       for element in possible_list:\n",
    "            if any(\"Corgi\" in s && \"2 years old\" for s in possible_list):\n",
    "                server.sendmail(sender_email, receiver_email, message1)\n",
    "                break\n",
    "            if any(\"Shih Tzu\" in s && \"2 years old\" for s in possible_list):\n",
    "                server.sendmail(sender_email, receiver_email, message2)\n",
    "                break\n",
    "        for element in possible_list2:\n",
    "            if any(\"Corgi\" in s && \"2 years old\" for s in possible_list2):\n",
    "                server.sendmail(sender_email, receiver_email, message1)\n",
    "                break\n",
    "            if any(\"Shih Tzu\" in s && \"2 years old\" for s in possible_list2):\n",
    "                server.sendmail(sender_email, receiver_email, message2)\n",
    "                break\n",
    "        \n"
   ]
  },
  {
   "cell_type": "code",
   "execution_count": null,
   "metadata": {},
   "outputs": [],
   "source": []
  },
  {
   "cell_type": "code",
   "execution_count": null,
   "metadata": {},
   "outputs": [],
   "source": []
  }
 ],
 "metadata": {
  "kernelspec": {
   "display_name": "Python 3",
   "language": "python",
   "name": "python3"
  },
  "language_info": {
   "codemirror_mode": {
    "name": "ipython",
    "version": 3
   },
   "file_extension": ".py",
   "mimetype": "text/x-python",
   "name": "python",
   "nbconvert_exporter": "python",
   "pygments_lexer": "ipython3",
   "version": "3.6.5"
  }
 },
 "nbformat": 4,
 "nbformat_minor": 2
}
